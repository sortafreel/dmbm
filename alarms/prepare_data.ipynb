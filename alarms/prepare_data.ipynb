{
 "cells": [
  {
   "cell_type": "code",
   "execution_count": 1,
   "metadata": {
    "collapsed": true,
    "pycharm": {
     "name": "#%%\n"
    }
   },
   "outputs": [],
   "source": [
    "from alarms.utils import AnalysisArea, stringify_messages, define_message_type, define_region, timedelta_to_hours\n",
    "import json\n",
    "import pandas as pd\n",
    "from datetime import datetime"
   ]
  },
  {
   "cell_type": "code",
   "execution_count": 2,
   "outputs": [],
   "source": [
    "SELECTED_REGION = AnalysisArea.LVIV"
   ],
   "metadata": {
    "collapsed": false,
    "pycharm": {
     "name": "#%%\n"
    }
   }
  },
  {
   "cell_type": "code",
   "execution_count": 3,
   "outputs": [
    {
     "name": "stdout",
     "output_type": "stream",
     "text": [
      "- Processing 2365 channel messages.\n"
     ]
    }
   ],
   "source": [
    "# Load Lviv data into dataframe\n",
    "if SELECTED_REGION == AnalysisArea.LVIV:\n",
    "    ALARM_START_MARKERS = [r\"(?:\\n|.)*Увага! Повітряна тривога(?:\\n|.)*\"]\n",
    "    ALARM_END_MARKERS = [r\"(?:\\n|.)*Увага! Відбій повітряної тривоги(?:\\n|.)*\"]\n",
    "    filename = \"-1001399934598-channel-messages.json\"\n",
    "# Load all regions data into dataframe\n",
    "if SELECTED_REGION == AnalysisArea.ALL_UKRAINE:\n",
    "    ALARM_START_MARKERS = [r\"(?:\\n|.)*(?:Повітряна тривога|Загроза артобстрілу)(?: в|)(?:\\n|.)*\"]\n",
    "    ALARM_END_MARKERS = [r\"(?:\\n|.)*Відбій (?:(?:повітряної |)тривоги|загрози артобстрілу)(?: в|)(?:\\n|.)*\"]\n",
    "    filename = \"-1766138888-channel-messages.json\"\n",
    "# Load data\n",
    "with open(f\"../exports/{filename}\", \"r\") as f:  # NOQA\n",
    "    raw_messages = json.loads(f.read())\n",
    "raw_messages = pd.DataFrame(raw_messages[\"messages\"]) if raw_messages.get(\"messages\") else pd.DataFrame(\n",
    "    raw_messages)\n",
    "print(f\"- Processing {len(raw_messages)} channel messages.\")"
   ],
   "metadata": {
    "collapsed": false,
    "pycharm": {
     "name": "#%%\n"
    }
   }
  },
  {
   "cell_type": "code",
   "execution_count": 4,
   "outputs": [
    {
     "data": {
      "text/plain": "                datetime                                            message\n1621 2022-02-25 06:53:08  Оповіщення ЦЗ:\\nУвага! Повітряна тривога! Уваг...\n1622 2022-02-25 07:56:00  Увага! Відбій повітряної тривоги!\\nУвага! Відб...\n1623 2022-02-25 07:56:16  Увага! Відбій повітряної тривоги!\\nУвага! Відб...\n1624 2022-02-25 12:17:40  Увага! Повітряна тривога! Увага! Повітряна три...\n1625 2022-02-25 12:17:45  Увага! Повітряна тривога! Увага! Повітряна три...\n...                  ...                                                ...\n2360 2022-09-11 20:44:41  Оповіщення ЦЗ:\\nУвага! Відбій повітряної триво...\n2361 2022-09-14 16:37:19  Увага! Повітряна тривога!\\nУвага! Повітряна тр...\n2362 2022-09-14 16:54:08  Оповіщення ЦЗ:\\nУвага! Відбій повітряної триво...\n2363 2022-09-14 16:59:10  Увага! Повітряна тривога!\\nУвага! Повітряна тр...\n2364 2022-09-14 17:56:25  Оповіщення ЦЗ:\\nУвага! Відбій повітряної триво...\n\n[744 rows x 2 columns]",
      "text/html": "<div>\n<style scoped>\n    .dataframe tbody tr th:only-of-type {\n        vertical-align: middle;\n    }\n\n    .dataframe tbody tr th {\n        vertical-align: top;\n    }\n\n    .dataframe thead th {\n        text-align: right;\n    }\n</style>\n<table border=\"1\" class=\"dataframe\">\n  <thead>\n    <tr style=\"text-align: right;\">\n      <th></th>\n      <th>datetime</th>\n      <th>message</th>\n    </tr>\n  </thead>\n  <tbody>\n    <tr>\n      <th>1621</th>\n      <td>2022-02-25 06:53:08</td>\n      <td>Оповіщення ЦЗ:\\nУвага! Повітряна тривога! Уваг...</td>\n    </tr>\n    <tr>\n      <th>1622</th>\n      <td>2022-02-25 07:56:00</td>\n      <td>Увага! Відбій повітряної тривоги!\\nУвага! Відб...</td>\n    </tr>\n    <tr>\n      <th>1623</th>\n      <td>2022-02-25 07:56:16</td>\n      <td>Увага! Відбій повітряної тривоги!\\nУвага! Відб...</td>\n    </tr>\n    <tr>\n      <th>1624</th>\n      <td>2022-02-25 12:17:40</td>\n      <td>Увага! Повітряна тривога! Увага! Повітряна три...</td>\n    </tr>\n    <tr>\n      <th>1625</th>\n      <td>2022-02-25 12:17:45</td>\n      <td>Увага! Повітряна тривога! Увага! Повітряна три...</td>\n    </tr>\n    <tr>\n      <th>...</th>\n      <td>...</td>\n      <td>...</td>\n    </tr>\n    <tr>\n      <th>2360</th>\n      <td>2022-09-11 20:44:41</td>\n      <td>Оповіщення ЦЗ:\\nУвага! Відбій повітряної триво...</td>\n    </tr>\n    <tr>\n      <th>2361</th>\n      <td>2022-09-14 16:37:19</td>\n      <td>Увага! Повітряна тривога!\\nУвага! Повітряна тр...</td>\n    </tr>\n    <tr>\n      <th>2362</th>\n      <td>2022-09-14 16:54:08</td>\n      <td>Оповіщення ЦЗ:\\nУвага! Відбій повітряної триво...</td>\n    </tr>\n    <tr>\n      <th>2363</th>\n      <td>2022-09-14 16:59:10</td>\n      <td>Увага! Повітряна тривога!\\nУвага! Повітряна тр...</td>\n    </tr>\n    <tr>\n      <th>2364</th>\n      <td>2022-09-14 17:56:25</td>\n      <td>Оповіщення ЦЗ:\\nУвага! Відбій повітряної триво...</td>\n    </tr>\n  </tbody>\n</table>\n<p>744 rows × 2 columns</p>\n</div>"
     },
     "execution_count": 4,
     "metadata": {},
     "output_type": "execute_result"
    }
   ],
   "source": [
    "# Convert raw messages into expected format\n",
    "channel_messages = raw_messages[['date', 'text']].copy()\n",
    "channel_messages.columns = [\"datetime\", \"message\"]\n",
    "channel_messages[\"message\"] = channel_messages[\"message\"].apply(stringify_messages)\n",
    "# Convert string into datetime\n",
    "channel_messages[\"datetime\"] = pd.to_datetime(channel_messages[\"datetime\"], format=\"%Y-%m-%dT%H:%M:%S\")\n",
    "channel_messages.head()\n",
    "# Skip dates < February 24th as alarms weren't working correctly during the first day of the war\n",
    "channel_messages.drop(channel_messages[channel_messages[\"datetime\"] < datetime(2022, 2, 25, 0, 0, 0, 0)].index, inplace=True)\n",
    "# Skip dates > September 14th to keep data consistent\n",
    "channel_messages.drop(channel_messages[channel_messages[\"datetime\"] > datetime(2022, 9, 15, 0, 0, 0, 0)].index, inplace=True)\n",
    "# Sort to get historical order of events\n",
    "channel_messages = channel_messages.sort_values(by=\"datetime\", ascending=True)\n",
    "channel_messages"
   ],
   "metadata": {
    "collapsed": false,
    "pycharm": {
     "name": "#%%\n"
    }
   }
  },
  {
   "cell_type": "code",
   "execution_count": 5,
   "outputs": [
    {
     "name": "stdout",
     "output_type": "stream",
     "text": [
      "- Collected 689 alarm messages.\n"
     ]
    },
    {
     "data": {
      "text/plain": "                datetime                                            message  \\\n1621 2022-02-25 06:53:08  Оповіщення ЦЗ:\\nУвага! Повітряна тривога! Уваг...   \n1622 2022-02-25 07:56:00  Увага! Відбій повітряної тривоги!\\nУвага! Відб...   \n1623 2022-02-25 07:56:16  Увага! Відбій повітряної тривоги!\\nУвага! Відб...   \n1624 2022-02-25 12:17:40  Увага! Повітряна тривога! Увага! Повітряна три...   \n1625 2022-02-25 12:17:45  Увага! Повітряна тривога! Увага! Повітряна три...   \n...                  ...                                                ...   \n2360 2022-09-11 20:44:41  Оповіщення ЦЗ:\\nУвага! Відбій повітряної триво...   \n2361 2022-09-14 16:37:19  Увага! Повітряна тривога!\\nУвага! Повітряна тр...   \n2362 2022-09-14 16:54:08  Оповіщення ЦЗ:\\nУвага! Відбій повітряної триво...   \n2363 2022-09-14 16:59:10  Увага! Повітряна тривога!\\nУвага! Повітряна тр...   \n2364 2022-09-14 17:56:25  Оповіщення ЦЗ:\\nУвага! Відбій повітряної триво...   \n\n     message_type  \n1621        start  \n1622          end  \n1623          end  \n1624        start  \n1625        start  \n...           ...  \n2360          end  \n2361        start  \n2362          end  \n2363        start  \n2364          end  \n\n[689 rows x 3 columns]",
      "text/html": "<div>\n<style scoped>\n    .dataframe tbody tr th:only-of-type {\n        vertical-align: middle;\n    }\n\n    .dataframe tbody tr th {\n        vertical-align: top;\n    }\n\n    .dataframe thead th {\n        text-align: right;\n    }\n</style>\n<table border=\"1\" class=\"dataframe\">\n  <thead>\n    <tr style=\"text-align: right;\">\n      <th></th>\n      <th>datetime</th>\n      <th>message</th>\n      <th>message_type</th>\n    </tr>\n  </thead>\n  <tbody>\n    <tr>\n      <th>1621</th>\n      <td>2022-02-25 06:53:08</td>\n      <td>Оповіщення ЦЗ:\\nУвага! Повітряна тривога! Уваг...</td>\n      <td>start</td>\n    </tr>\n    <tr>\n      <th>1622</th>\n      <td>2022-02-25 07:56:00</td>\n      <td>Увага! Відбій повітряної тривоги!\\nУвага! Відб...</td>\n      <td>end</td>\n    </tr>\n    <tr>\n      <th>1623</th>\n      <td>2022-02-25 07:56:16</td>\n      <td>Увага! Відбій повітряної тривоги!\\nУвага! Відб...</td>\n      <td>end</td>\n    </tr>\n    <tr>\n      <th>1624</th>\n      <td>2022-02-25 12:17:40</td>\n      <td>Увага! Повітряна тривога! Увага! Повітряна три...</td>\n      <td>start</td>\n    </tr>\n    <tr>\n      <th>1625</th>\n      <td>2022-02-25 12:17:45</td>\n      <td>Увага! Повітряна тривога! Увага! Повітряна три...</td>\n      <td>start</td>\n    </tr>\n    <tr>\n      <th>...</th>\n      <td>...</td>\n      <td>...</td>\n      <td>...</td>\n    </tr>\n    <tr>\n      <th>2360</th>\n      <td>2022-09-11 20:44:41</td>\n      <td>Оповіщення ЦЗ:\\nУвага! Відбій повітряної триво...</td>\n      <td>end</td>\n    </tr>\n    <tr>\n      <th>2361</th>\n      <td>2022-09-14 16:37:19</td>\n      <td>Увага! Повітряна тривога!\\nУвага! Повітряна тр...</td>\n      <td>start</td>\n    </tr>\n    <tr>\n      <th>2362</th>\n      <td>2022-09-14 16:54:08</td>\n      <td>Оповіщення ЦЗ:\\nУвага! Відбій повітряної триво...</td>\n      <td>end</td>\n    </tr>\n    <tr>\n      <th>2363</th>\n      <td>2022-09-14 16:59:10</td>\n      <td>Увага! Повітряна тривога!\\nУвага! Повітряна тр...</td>\n      <td>start</td>\n    </tr>\n    <tr>\n      <th>2364</th>\n      <td>2022-09-14 17:56:25</td>\n      <td>Оповіщення ЦЗ:\\nУвага! Відбій повітряної триво...</td>\n      <td>end</td>\n    </tr>\n  </tbody>\n</table>\n<p>689 rows × 3 columns</p>\n</div>"
     },
     "execution_count": 5,
     "metadata": {},
     "output_type": "execute_result"
    }
   ],
   "source": [
    "# Mark info messages and actual alarms\n",
    "channel_messages[\"message_type\"] = channel_messages[\"message\"].apply(  # NOQA\n",
    "    define_message_type(ALARM_START_MARKERS, ALARM_END_MARKERS))  # NOQA\n",
    "# # Look at alarm messages and copy the slice into separate datafame\n",
    "alarm_messages_df = channel_messages[channel_messages[\"message_type\"] != \"info\"].copy()\n",
    "print(f\"- Collected {len(alarm_messages_df)} alarm messages.\")\n",
    "alarm_messages_df"
   ],
   "metadata": {
    "collapsed": false,
    "pycharm": {
     "name": "#%%\n"
    }
   }
  },
  {
   "cell_type": "code",
   "execution_count": 6,
   "outputs": [
    {
     "name": "stdout",
     "output_type": "stream",
     "text": [
      "- Collected 55 info messages.\n"
     ]
    },
    {
     "data": {
      "text/plain": "                datetime                                            message  \\\n1628 2022-02-25 14:44:58  Важлива інформація:\\nhttps://www.facebook.com/...   \n1629 2022-02-25 18:41:11  Шановні мешканці Львівщини!\\nВже два дні ми за...   \n1630 2022-02-25 18:59:25                     Комендантська година: що і як:   \n1631 2022-02-25 18:59:36                                                      \n1632 2022-02-25 20:38:59  https://www.facebook.com/100064486998276/posts...   \n1633 2022-02-25 20:46:43  ​​Інформація про системи оповіщення щодо комен...   \n1638 2022-02-26 08:58:47  Львів’ян попереджають про заборону польотів лі...   \n1648 2022-02-27 11:11:15  До уваги голів сільських та селищних територіа...   \n1649 2022-02-27 11:42:48                                  Фото від *@@##₴₴*   \n1650 2022-02-27 11:43:06  Офіційні канали комунікації Львівської обласно...   \n1651 2022-02-27 12:48:44  Шановні Львів’яни та мешканці області.\\nПросим...   \n1652 2022-02-27 18:19:23  УВАГА!\\n\\nО 18:00 розпочалися військові навчан...   \n1653 2022-02-27 18:28:58  Маємо новини для мешканців області.\\nДля тих г...   \n1654 2022-02-27 19:33:48                                                      \n1655 2022-02-27 19:51:16                                                      \n1658 2022-02-28 20:54:37                          Усім укритися в сховищах!   \n1666 2022-03-02 10:22:02                 Населенню зайняти місця у сховищах   \n1675 2022-03-02 20:30:55                          Усім укритися в сховищах!   \n1680 2022-03-03 01:53:37                          Усім укритися в сховищах!   \n1685 2022-03-03 22:10:53                          Усім укритися в сховищах!   \n1690 2022-03-04 09:55:30                          Усім укритися в сховищах!   \n1694 2022-03-05 21:02:02                          Усім укритися в сховищах!   \n1698 2022-03-11 04:43:19                          Усім укритися в сховищах!   \n1703 2022-03-11 11:23:27                           Усім укритися в сховищах   \n1708 2022-03-12 05:25:23                           Усім укритися в сховищах   \n1799 2022-03-23 17:00:14  ⚡️ Важливо! На цьому каналі лише оперативна ін...   \n1804 2022-03-25 17:29:12  ‼️‼️Резервні лінії служби порятунку за номером...   \n1825 2022-03-28 22:11:14  !!! До уваги громадян !!!\\nПоліція Львівщини п...   \n1850 2022-03-30 12:31:31  ⚡️ Важливо! На цьому каналі лише оперативна ін...   \n1887 2022-04-04 15:12:58  «Шось летить». На Львівщині створили чат-бота,...   \n1967 2022-04-18 21:19:38  Сьогодні вранці через ракетний удар росіян у Л...   \n2012 2022-04-25 20:55:49  ⚡️ УВАГА! На каналі \"Оповіщення ЦЗ\" публікуєть...   \n2055 2022-05-05 11:07:43  Будьте пильні, адже ворог працює на інформацій...   \n2147 2022-06-03 23:31:02  ❗️ УВАГА! Останнім часом багато Telegram-канал...   \n2152 2022-06-04 23:12:10  Тепер точно відбій. Перепрошую за глюк під час...   \n2161 2022-06-07 20:52:20  Увага! Важлива інформація!\\nПід час оголошення...   \n2182 2022-06-16 11:27:25  ❗️ УВАГА! Останнім часом багато Telegram-канал...   \n2228 2022-07-05 03:12:48  Наполегливо закликаємо не нехтувати правилами ...   \n2232 2022-07-05 19:20:47  Наполегливо закликаємо не нехтувати правилами ...   \n2236 2022-07-06 03:05:40  Наполегливо закликаємо не нехтувати правилами ...   \n2240 2022-07-12 04:39:45  Наполегливо закликаємо не нехтувати правилами ...   \n2247 2022-07-13 14:21:20  Наполегливо закликаємо не нехтувати правилами ...   \n2251 2022-07-14 10:18:38  Наполегливо закликаємо не нехтувати правилами ...   \n2255 2022-07-15 20:23:03  Наполегливо закликаємо не нехтувати правилами ...   \n2259 2022-07-16 05:05:26  Наполегливо закликаємо не нехтувати правилами ...   \n2263 2022-07-16 16:47:41  Наполегливо закликаємо не нехтувати правилами ...   \n2267 2022-07-23 04:49:56  Наполегливо закликаємо не нехтувати правилами ...   \n2271 2022-07-24 08:27:45  Наполегливо закликаємо не нехтувати правилами ...   \n2275 2022-07-25 22:47:17  Наполегливо закликаємо не нехтувати правилами ...   \n2295 2022-07-30 11:06:44           Увага! Можливе погіршення погодних умов!   \n2324 2022-08-20 13:02:17        https://t.me/kozytskyy_maksym_official/3927   \n2327 2022-08-20 17:53:58                                                      \n2328 2022-08-20 17:55:04  Помітили телеграм-канал чи профіль рашиста, як...   \n2329 2022-08-20 17:55:23                     https://t.me/+EbXZHBfHXbszY2I6   \n2356 2022-09-10 16:19:57                                                      \n\n     message_type  \n1628         info  \n1629         info  \n1630         info  \n1631         info  \n1632         info  \n1633         info  \n1638         info  \n1648         info  \n1649         info  \n1650         info  \n1651         info  \n1652         info  \n1653         info  \n1654         info  \n1655         info  \n1658         info  \n1666         info  \n1675         info  \n1680         info  \n1685         info  \n1690         info  \n1694         info  \n1698         info  \n1703         info  \n1708         info  \n1799         info  \n1804         info  \n1825         info  \n1850         info  \n1887         info  \n1967         info  \n2012         info  \n2055         info  \n2147         info  \n2152         info  \n2161         info  \n2182         info  \n2228         info  \n2232         info  \n2236         info  \n2240         info  \n2247         info  \n2251         info  \n2255         info  \n2259         info  \n2263         info  \n2267         info  \n2271         info  \n2275         info  \n2295         info  \n2324         info  \n2327         info  \n2328         info  \n2329         info  \n2356         info  ",
      "text/html": "<div>\n<style scoped>\n    .dataframe tbody tr th:only-of-type {\n        vertical-align: middle;\n    }\n\n    .dataframe tbody tr th {\n        vertical-align: top;\n    }\n\n    .dataframe thead th {\n        text-align: right;\n    }\n</style>\n<table border=\"1\" class=\"dataframe\">\n  <thead>\n    <tr style=\"text-align: right;\">\n      <th></th>\n      <th>datetime</th>\n      <th>message</th>\n      <th>message_type</th>\n    </tr>\n  </thead>\n  <tbody>\n    <tr>\n      <th>1628</th>\n      <td>2022-02-25 14:44:58</td>\n      <td>Важлива інформація:\\nhttps://www.facebook.com/...</td>\n      <td>info</td>\n    </tr>\n    <tr>\n      <th>1629</th>\n      <td>2022-02-25 18:41:11</td>\n      <td>Шановні мешканці Львівщини!\\nВже два дні ми за...</td>\n      <td>info</td>\n    </tr>\n    <tr>\n      <th>1630</th>\n      <td>2022-02-25 18:59:25</td>\n      <td>Комендантська година: що і як:</td>\n      <td>info</td>\n    </tr>\n    <tr>\n      <th>1631</th>\n      <td>2022-02-25 18:59:36</td>\n      <td></td>\n      <td>info</td>\n    </tr>\n    <tr>\n      <th>1632</th>\n      <td>2022-02-25 20:38:59</td>\n      <td>https://www.facebook.com/100064486998276/posts...</td>\n      <td>info</td>\n    </tr>\n    <tr>\n      <th>1633</th>\n      <td>2022-02-25 20:46:43</td>\n      <td>​​Інформація про системи оповіщення щодо комен...</td>\n      <td>info</td>\n    </tr>\n    <tr>\n      <th>1638</th>\n      <td>2022-02-26 08:58:47</td>\n      <td>Львів’ян попереджають про заборону польотів лі...</td>\n      <td>info</td>\n    </tr>\n    <tr>\n      <th>1648</th>\n      <td>2022-02-27 11:11:15</td>\n      <td>До уваги голів сільських та селищних територіа...</td>\n      <td>info</td>\n    </tr>\n    <tr>\n      <th>1649</th>\n      <td>2022-02-27 11:42:48</td>\n      <td>Фото від *@@##₴₴*</td>\n      <td>info</td>\n    </tr>\n    <tr>\n      <th>1650</th>\n      <td>2022-02-27 11:43:06</td>\n      <td>Офіційні канали комунікації Львівської обласно...</td>\n      <td>info</td>\n    </tr>\n    <tr>\n      <th>1651</th>\n      <td>2022-02-27 12:48:44</td>\n      <td>Шановні Львів’яни та мешканці області.\\nПросим...</td>\n      <td>info</td>\n    </tr>\n    <tr>\n      <th>1652</th>\n      <td>2022-02-27 18:19:23</td>\n      <td>УВАГА!\\n\\nО 18:00 розпочалися військові навчан...</td>\n      <td>info</td>\n    </tr>\n    <tr>\n      <th>1653</th>\n      <td>2022-02-27 18:28:58</td>\n      <td>Маємо новини для мешканців області.\\nДля тих г...</td>\n      <td>info</td>\n    </tr>\n    <tr>\n      <th>1654</th>\n      <td>2022-02-27 19:33:48</td>\n      <td></td>\n      <td>info</td>\n    </tr>\n    <tr>\n      <th>1655</th>\n      <td>2022-02-27 19:51:16</td>\n      <td></td>\n      <td>info</td>\n    </tr>\n    <tr>\n      <th>1658</th>\n      <td>2022-02-28 20:54:37</td>\n      <td>Усім укритися в сховищах!</td>\n      <td>info</td>\n    </tr>\n    <tr>\n      <th>1666</th>\n      <td>2022-03-02 10:22:02</td>\n      <td>Населенню зайняти місця у сховищах</td>\n      <td>info</td>\n    </tr>\n    <tr>\n      <th>1675</th>\n      <td>2022-03-02 20:30:55</td>\n      <td>Усім укритися в сховищах!</td>\n      <td>info</td>\n    </tr>\n    <tr>\n      <th>1680</th>\n      <td>2022-03-03 01:53:37</td>\n      <td>Усім укритися в сховищах!</td>\n      <td>info</td>\n    </tr>\n    <tr>\n      <th>1685</th>\n      <td>2022-03-03 22:10:53</td>\n      <td>Усім укритися в сховищах!</td>\n      <td>info</td>\n    </tr>\n    <tr>\n      <th>1690</th>\n      <td>2022-03-04 09:55:30</td>\n      <td>Усім укритися в сховищах!</td>\n      <td>info</td>\n    </tr>\n    <tr>\n      <th>1694</th>\n      <td>2022-03-05 21:02:02</td>\n      <td>Усім укритися в сховищах!</td>\n      <td>info</td>\n    </tr>\n    <tr>\n      <th>1698</th>\n      <td>2022-03-11 04:43:19</td>\n      <td>Усім укритися в сховищах!</td>\n      <td>info</td>\n    </tr>\n    <tr>\n      <th>1703</th>\n      <td>2022-03-11 11:23:27</td>\n      <td>Усім укритися в сховищах</td>\n      <td>info</td>\n    </tr>\n    <tr>\n      <th>1708</th>\n      <td>2022-03-12 05:25:23</td>\n      <td>Усім укритися в сховищах</td>\n      <td>info</td>\n    </tr>\n    <tr>\n      <th>1799</th>\n      <td>2022-03-23 17:00:14</td>\n      <td>⚡️ Важливо! На цьому каналі лише оперативна ін...</td>\n      <td>info</td>\n    </tr>\n    <tr>\n      <th>1804</th>\n      <td>2022-03-25 17:29:12</td>\n      <td>‼️‼️Резервні лінії служби порятунку за номером...</td>\n      <td>info</td>\n    </tr>\n    <tr>\n      <th>1825</th>\n      <td>2022-03-28 22:11:14</td>\n      <td>!!! До уваги громадян !!!\\nПоліція Львівщини п...</td>\n      <td>info</td>\n    </tr>\n    <tr>\n      <th>1850</th>\n      <td>2022-03-30 12:31:31</td>\n      <td>⚡️ Важливо! На цьому каналі лише оперативна ін...</td>\n      <td>info</td>\n    </tr>\n    <tr>\n      <th>1887</th>\n      <td>2022-04-04 15:12:58</td>\n      <td>«Шось летить». На Львівщині створили чат-бота,...</td>\n      <td>info</td>\n    </tr>\n    <tr>\n      <th>1967</th>\n      <td>2022-04-18 21:19:38</td>\n      <td>Сьогодні вранці через ракетний удар росіян у Л...</td>\n      <td>info</td>\n    </tr>\n    <tr>\n      <th>2012</th>\n      <td>2022-04-25 20:55:49</td>\n      <td>⚡️ УВАГА! На каналі \"Оповіщення ЦЗ\" публікуєть...</td>\n      <td>info</td>\n    </tr>\n    <tr>\n      <th>2055</th>\n      <td>2022-05-05 11:07:43</td>\n      <td>Будьте пильні, адже ворог працює на інформацій...</td>\n      <td>info</td>\n    </tr>\n    <tr>\n      <th>2147</th>\n      <td>2022-06-03 23:31:02</td>\n      <td>❗️ УВАГА! Останнім часом багато Telegram-канал...</td>\n      <td>info</td>\n    </tr>\n    <tr>\n      <th>2152</th>\n      <td>2022-06-04 23:12:10</td>\n      <td>Тепер точно відбій. Перепрошую за глюк під час...</td>\n      <td>info</td>\n    </tr>\n    <tr>\n      <th>2161</th>\n      <td>2022-06-07 20:52:20</td>\n      <td>Увага! Важлива інформація!\\nПід час оголошення...</td>\n      <td>info</td>\n    </tr>\n    <tr>\n      <th>2182</th>\n      <td>2022-06-16 11:27:25</td>\n      <td>❗️ УВАГА! Останнім часом багато Telegram-канал...</td>\n      <td>info</td>\n    </tr>\n    <tr>\n      <th>2228</th>\n      <td>2022-07-05 03:12:48</td>\n      <td>Наполегливо закликаємо не нехтувати правилами ...</td>\n      <td>info</td>\n    </tr>\n    <tr>\n      <th>2232</th>\n      <td>2022-07-05 19:20:47</td>\n      <td>Наполегливо закликаємо не нехтувати правилами ...</td>\n      <td>info</td>\n    </tr>\n    <tr>\n      <th>2236</th>\n      <td>2022-07-06 03:05:40</td>\n      <td>Наполегливо закликаємо не нехтувати правилами ...</td>\n      <td>info</td>\n    </tr>\n    <tr>\n      <th>2240</th>\n      <td>2022-07-12 04:39:45</td>\n      <td>Наполегливо закликаємо не нехтувати правилами ...</td>\n      <td>info</td>\n    </tr>\n    <tr>\n      <th>2247</th>\n      <td>2022-07-13 14:21:20</td>\n      <td>Наполегливо закликаємо не нехтувати правилами ...</td>\n      <td>info</td>\n    </tr>\n    <tr>\n      <th>2251</th>\n      <td>2022-07-14 10:18:38</td>\n      <td>Наполегливо закликаємо не нехтувати правилами ...</td>\n      <td>info</td>\n    </tr>\n    <tr>\n      <th>2255</th>\n      <td>2022-07-15 20:23:03</td>\n      <td>Наполегливо закликаємо не нехтувати правилами ...</td>\n      <td>info</td>\n    </tr>\n    <tr>\n      <th>2259</th>\n      <td>2022-07-16 05:05:26</td>\n      <td>Наполегливо закликаємо не нехтувати правилами ...</td>\n      <td>info</td>\n    </tr>\n    <tr>\n      <th>2263</th>\n      <td>2022-07-16 16:47:41</td>\n      <td>Наполегливо закликаємо не нехтувати правилами ...</td>\n      <td>info</td>\n    </tr>\n    <tr>\n      <th>2267</th>\n      <td>2022-07-23 04:49:56</td>\n      <td>Наполегливо закликаємо не нехтувати правилами ...</td>\n      <td>info</td>\n    </tr>\n    <tr>\n      <th>2271</th>\n      <td>2022-07-24 08:27:45</td>\n      <td>Наполегливо закликаємо не нехтувати правилами ...</td>\n      <td>info</td>\n    </tr>\n    <tr>\n      <th>2275</th>\n      <td>2022-07-25 22:47:17</td>\n      <td>Наполегливо закликаємо не нехтувати правилами ...</td>\n      <td>info</td>\n    </tr>\n    <tr>\n      <th>2295</th>\n      <td>2022-07-30 11:06:44</td>\n      <td>Увага! Можливе погіршення погодних умов!</td>\n      <td>info</td>\n    </tr>\n    <tr>\n      <th>2324</th>\n      <td>2022-08-20 13:02:17</td>\n      <td>https://t.me/kozytskyy_maksym_official/3927</td>\n      <td>info</td>\n    </tr>\n    <tr>\n      <th>2327</th>\n      <td>2022-08-20 17:53:58</td>\n      <td></td>\n      <td>info</td>\n    </tr>\n    <tr>\n      <th>2328</th>\n      <td>2022-08-20 17:55:04</td>\n      <td>Помітили телеграм-канал чи профіль рашиста, як...</td>\n      <td>info</td>\n    </tr>\n    <tr>\n      <th>2329</th>\n      <td>2022-08-20 17:55:23</td>\n      <td>https://t.me/+EbXZHBfHXbszY2I6</td>\n      <td>info</td>\n    </tr>\n    <tr>\n      <th>2356</th>\n      <td>2022-09-10 16:19:57</td>\n      <td></td>\n      <td>info</td>\n    </tr>\n  </tbody>\n</table>\n</div>"
     },
     "execution_count": 6,
     "metadata": {},
     "output_type": "execute_result"
    }
   ],
   "source": [
    "# Look at info messages\n",
    "info_messages_df = channel_messages[channel_messages[\"message_type\"] == \"info\"]\n",
    "print(f\"- Collected {len(info_messages_df)} info messages.\")\n",
    "info_messages_df"
   ],
   "metadata": {
    "collapsed": false,
    "pycharm": {
     "name": "#%%\n"
    }
   }
  },
  {
   "cell_type": "code",
   "execution_count": 7,
   "outputs": [],
   "source": [
    "# Define region per alarm\n",
    "if SELECTED_REGION == AnalysisArea.LVIV:\n",
    "    alarm_messages_df[\"region\"] = \"Lviv region\"\n",
    "if SELECTED_REGION == AnalysisArea.ALL_UKRAINE:\n",
    "    alarm_messages_df[\"region\"] = alarm_messages_df[\"message\"].apply(define_region)\n",
    "    # Drop test region\n",
    "    alarm_messages_df.drop(alarm_messages_df[alarm_messages_df[\"region\"] == \"Тестовий Регіон\"].index, inplace=True)\n",
    "    # Focus only on regions, drop smaller areas (cities, districts, etc.)\n",
    "    alarm_messages_df.drop(alarm_messages_df[~alarm_messages_df[\"region\"].str.contains(\"region\")].index, inplace=True)"
   ],
   "metadata": {
    "collapsed": false,
    "pycharm": {
     "name": "#%%\n"
    }
   }
  },
  {
   "cell_type": "code",
   "execution_count": 8,
   "outputs": [
    {
     "name": "stdout",
     "output_type": "stream",
     "text": [
      "- Collected 390 clean alarm messages.\n"
     ]
    }
   ],
   "source": [
    "if SELECTED_REGION == AnalysisArea.LVIV:\n",
    "    # Filter all the duplicates, as Lviv alarms are usually (but not always) annouced 2-3 times in a row\n",
    "    clean_alarm_messages = []\n",
    "    for _, alarm_row in alarm_messages_df.iterrows():\n",
    "        # The first entry is always a start\n",
    "        if len(clean_alarm_messages) == 0:\n",
    "            clean_alarm_messages.append(alarm_row.to_dict())\n",
    "            continue\n",
    "        # Skip duplicates (if the previous message have the same type)\n",
    "        if clean_alarm_messages[-1][\"message_type\"] == alarm_row[\"message_type\"]:\n",
    "            continue\n",
    "        clean_alarm_messages.append(alarm_row.to_dict())\n",
    "if SELECTED_REGION == AnalysisArea.ALL_UKRAINE:\n",
    "    # Filtering the first bugged message\n",
    "    clean_alarm_messages = [alarm_row.to_dict() for _, alarm_row in alarm_messages_df.iterrows()][1:]\n",
    "print(f\"- Collected {len(clean_alarm_messages)} clean alarm messages.\")  # NOQA"
   ],
   "metadata": {
    "collapsed": false,
    "pycharm": {
     "name": "#%%\n"
    }
   }
  },
  {
   "cell_type": "code",
   "execution_count": 9,
   "outputs": [
    {
     "name": "stdout",
     "output_type": "stream",
     "text": [
      "- Can't find start messages for 4 alarms, skipping.\n",
      "- Collected 195 alarms.\n"
     ]
    },
    {
     "data": {
      "text/plain": "       start_datetime                                      start_message  \\\n0 2022-02-25 06:53:08  Оповіщення ЦЗ:\\nУвага! Повітряна тривога! Уваг...   \n1 2022-02-25 12:17:40  Увага! Повітряна тривога! Увага! Повітряна три...   \n2 2022-02-26 06:15:28  Увага! Повітряна тривога! Увага! Повітряна три...   \n3 2022-02-26 13:46:10  🚨Увага! Повітряна тривога❗️\\nУвага! Повітряна ...   \n4 2022-02-26 17:18:39  🚨Увага! Повітряна тривога❗️\\nУвага! Повітряна ...   \n5 2022-02-26 19:59:11  🚨Увага! Повітряна тривога❗️\\nУвага! Повітряна ...   \n6 2022-02-28 20:54:13  Увага! Повітряна тривога! Увага! Повітряна три...   \n\n        region        end_datetime  \\\n0  Lviv region 2022-02-25 07:56:00   \n1  Lviv region 2022-02-25 13:00:34   \n2  Lviv region 2022-02-26 07:11:56   \n3  Lviv region 2022-02-26 14:46:45   \n4  Lviv region 2022-02-26 18:06:54   \n5  Lviv region 2022-02-26 20:42:10   \n6  Lviv region 2022-02-28 21:23:49   \n\n                                         end_message       timedelta  \\\n0  Увага! Відбій повітряної тривоги!\\nУвага! Відб... 0 days 01:02:52   \n1  Увага! Відбій повітряної тривоги!\\nУвага! Відб... 0 days 00:42:54   \n2  Увага! Відбій повітряної тривоги!\\nУвага! Відб... 0 days 00:56:28   \n3  ❗️Увага! Відбій повітряної тривоги❗️\\n🇬🇧Warnin... 0 days 01:00:35   \n4  ❗️Увага! Відбій повітряної тривоги❗️\\n🇬🇧Warnin... 0 days 00:48:15   \n5  ❗️Увага! Відбій повітряної тривоги❗️\\n🇬🇧Warnin... 0 days 00:42:59   \n6  Увага! Відбій повітряної тривоги! Увага! Відбі... 0 days 00:29:36   \n\n   duration_hours  day_of_the_year  \n0        1.047778               56  \n1        0.715000               56  \n2        0.941111               57  \n3        1.009722               57  \n4        0.804167               57  \n5        0.716389               57  \n6        0.493333               59  ",
      "text/html": "<div>\n<style scoped>\n    .dataframe tbody tr th:only-of-type {\n        vertical-align: middle;\n    }\n\n    .dataframe tbody tr th {\n        vertical-align: top;\n    }\n\n    .dataframe thead th {\n        text-align: right;\n    }\n</style>\n<table border=\"1\" class=\"dataframe\">\n  <thead>\n    <tr style=\"text-align: right;\">\n      <th></th>\n      <th>start_datetime</th>\n      <th>start_message</th>\n      <th>region</th>\n      <th>end_datetime</th>\n      <th>end_message</th>\n      <th>timedelta</th>\n      <th>duration_hours</th>\n      <th>day_of_the_year</th>\n    </tr>\n  </thead>\n  <tbody>\n    <tr>\n      <th>0</th>\n      <td>2022-02-25 06:53:08</td>\n      <td>Оповіщення ЦЗ:\\nУвага! Повітряна тривога! Уваг...</td>\n      <td>Lviv region</td>\n      <td>2022-02-25 07:56:00</td>\n      <td>Увага! Відбій повітряної тривоги!\\nУвага! Відб...</td>\n      <td>0 days 01:02:52</td>\n      <td>1.047778</td>\n      <td>56</td>\n    </tr>\n    <tr>\n      <th>1</th>\n      <td>2022-02-25 12:17:40</td>\n      <td>Увага! Повітряна тривога! Увага! Повітряна три...</td>\n      <td>Lviv region</td>\n      <td>2022-02-25 13:00:34</td>\n      <td>Увага! Відбій повітряної тривоги!\\nУвага! Відб...</td>\n      <td>0 days 00:42:54</td>\n      <td>0.715000</td>\n      <td>56</td>\n    </tr>\n    <tr>\n      <th>2</th>\n      <td>2022-02-26 06:15:28</td>\n      <td>Увага! Повітряна тривога! Увага! Повітряна три...</td>\n      <td>Lviv region</td>\n      <td>2022-02-26 07:11:56</td>\n      <td>Увага! Відбій повітряної тривоги!\\nУвага! Відб...</td>\n      <td>0 days 00:56:28</td>\n      <td>0.941111</td>\n      <td>57</td>\n    </tr>\n    <tr>\n      <th>3</th>\n      <td>2022-02-26 13:46:10</td>\n      <td>🚨Увага! Повітряна тривога❗️\\nУвага! Повітряна ...</td>\n      <td>Lviv region</td>\n      <td>2022-02-26 14:46:45</td>\n      <td>❗️Увага! Відбій повітряної тривоги❗️\\n🇬🇧Warnin...</td>\n      <td>0 days 01:00:35</td>\n      <td>1.009722</td>\n      <td>57</td>\n    </tr>\n    <tr>\n      <th>4</th>\n      <td>2022-02-26 17:18:39</td>\n      <td>🚨Увага! Повітряна тривога❗️\\nУвага! Повітряна ...</td>\n      <td>Lviv region</td>\n      <td>2022-02-26 18:06:54</td>\n      <td>❗️Увага! Відбій повітряної тривоги❗️\\n🇬🇧Warnin...</td>\n      <td>0 days 00:48:15</td>\n      <td>0.804167</td>\n      <td>57</td>\n    </tr>\n    <tr>\n      <th>5</th>\n      <td>2022-02-26 19:59:11</td>\n      <td>🚨Увага! Повітряна тривога❗️\\nУвага! Повітряна ...</td>\n      <td>Lviv region</td>\n      <td>2022-02-26 20:42:10</td>\n      <td>❗️Увага! Відбій повітряної тривоги❗️\\n🇬🇧Warnin...</td>\n      <td>0 days 00:42:59</td>\n      <td>0.716389</td>\n      <td>57</td>\n    </tr>\n    <tr>\n      <th>6</th>\n      <td>2022-02-28 20:54:13</td>\n      <td>Увага! Повітряна тривога! Увага! Повітряна три...</td>\n      <td>Lviv region</td>\n      <td>2022-02-28 21:23:49</td>\n      <td>Увага! Відбій повітряної тривоги! Увага! Відбі...</td>\n      <td>0 days 00:29:36</td>\n      <td>0.493333</td>\n      <td>59</td>\n    </tr>\n  </tbody>\n</table>\n</div>"
     },
     "execution_count": 9,
     "metadata": {},
     "output_type": "execute_result"
    }
   ],
   "source": [
    "# Combine alarm messages into actual alarms\n",
    "alarms = []\n",
    "alarms_without_start = []\n",
    "for alarm_message in clean_alarm_messages:\n",
    "    # Create alarms from start messages\n",
    "    if alarm_message[\"message_type\"] == \"start\":\n",
    "        alarms.append({\"start_datetime\": alarm_message[\"datetime\"], \"start_message\": alarm_message[\"message\"],\n",
    "                       \"region\": alarm_message[\"region\"]})\n",
    "        continue\n",
    "    # Find start message index, when iterating end messages\n",
    "    smi = None\n",
    "    for i in range(len(alarms) - 1, -1, -1):\n",
    "        if alarms[i][\"region\"] == alarm_message[\"region\"]:\n",
    "            smi = i\n",
    "            break\n",
    "    # Skip alarms with no start message (bugs)\n",
    "    if smi is None:\n",
    "        alarms_without_start.append(alarm_message)\n",
    "        continue\n",
    "    # Extend the start message with end message\n",
    "    alarms[smi][\"end_datetime\"] = alarm_message[\"datetime\"]\n",
    "    alarms[smi][\"end_message\"] = alarm_message[\"message\"]\n",
    "    alarms[smi][\"timedelta\"] = alarms[smi][\"end_datetime\"] - alarms[smi][\"start_datetime\"]\n",
    "    alarms[smi][\"duration_hours\"] = timedelta_to_hours(alarms[smi][\"timedelta\"])\n",
    "print(f\"- Can't find start messages for {len(alarm_message)} alarms, skipping.\")  # NOQA\n",
    "all_alarms_df = pd.DataFrame(alarms)\n",
    "all_alarms_df[\"day_of_the_year\"] = all_alarms_df[\"start_datetime\"].apply(lambda x: x.timetuple().tm_yday)\n",
    "print(f\"- Collected {len(all_alarms_df)} alarms.\")\n",
    "all_alarms_df.head(7)"
   ],
   "metadata": {
    "collapsed": false,
    "pycharm": {
     "name": "#%%\n"
    }
   }
  },
  {
   "cell_type": "code",
   "execution_count": 10,
   "outputs": [],
   "source": [
    "# Save to file to create map\n",
    "if SELECTED_REGION == AnalysisArea.ALL_UKRAINE:\n",
    "    filename = \"ukraine_alarms.json\"\n",
    "if SELECTED_REGION == AnalysisArea.LVIV:\n",
    "    filename = \"lviv_alarms.json\"\n",
    "with open(f\"processed_data/{filename}\", \"w\") as f:  # NOQA\n",
    "    f.write(all_alarms_df.to_json())"
   ],
   "metadata": {
    "collapsed": false,
    "pycharm": {
     "name": "#%%\n"
    }
   }
  }
 ],
 "metadata": {
  "kernelspec": {
   "display_name": "Python 3",
   "language": "python",
   "name": "python3"
  },
  "language_info": {
   "codemirror_mode": {
    "name": "ipython",
    "version": 2
   },
   "file_extension": ".py",
   "mimetype": "text/x-python",
   "name": "python",
   "nbconvert_exporter": "python",
   "pygments_lexer": "ipython2",
   "version": "2.7.6"
  }
 },
 "nbformat": 4,
 "nbformat_minor": 0
}